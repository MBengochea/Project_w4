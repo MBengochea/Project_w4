import pandas as pd
boardgames_df = pd.read_csv("data/raw/boardgames_df_raw.csv")
boardgames_df


boardgames_df['categories'].value_counts().head(20)


boardgames_df['categories'] = boardgames_df['categories'].replace({
    r'.*Card Game.*': 'Cards',
    r'.*puzzle.*': 'Puzzle',
    r'.*dice.*': 'Dice',
    r'.*engine builder.*': 'Engine Builder',
    r'.*cooperaative.*': 'Cooperative',
    r'.*war.?game.*': 'War Game',
    r'.*bluff.*': 'Bluffing',
    r'.*abstract.*': 'Abstract',
    r'.*party.*': 'Party',
}, regex=True)
boardgames_df["categories"].value_counts()


boardgames_df['categories'].value_counts().head(50)


boardgames_df['categories'].unique()


import re

def clean_single_category(cat_string):
    cats = re.split(r"\s*;\s*", str(cat_string).strip().lower())

    for c in cats:
        if re.search(r'card', c):
            return "Card Games"
        elif re.search(r'puzzle', c):
            return "Puzzle Games"
        elif re.search(r'dice', c):
            return "Dice"
        elif re.search(r'engine build', c):
            return "Engine Builder"
        elif re.search(r'city build', c):
            return "City Builder"   
        elif re.search(r'cooperati?ve', c):   # handles "cooperative" + typo "cooperaative"
            return "Cooperative"
        elif re.search(r'war.?game', c):      # catches "wargame" and "war game"
            return "War Game"
        elif re.search(r'bluff', c):          # catches "bluff", "bluffing"
            return "Bluffing"
        elif re.search(r'abstract', c):
            return "Abstract"
        elif re.search(r'party.?', c):
            return "Party"
        elif re.search(r'fantasy.?', c):
            return "Fantasy"
        elif re.search(r'science.?', c):
            return "Science"
        elif re.search(r'industry.?', c):
            return "Industry"
        elif re.search(r'adventure.?', c):
            return "Adventure"
        elif re.search(r'environment.?', c):
            return "Environmental"
        elif re.search(r'mystery.?', c):
            return "Mystery"
        elif re.search(r'strategy.?', c):
            return "Strategy"
    return "Other"   # fallback if no match


# Apply
boardgames_df["categories"] = boardgames_df["categories"].apply(clean_single_category)

# Check
print(boardgames_df["categories"].value_counts())






