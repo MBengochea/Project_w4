import pandas as pd
boardgames_df = pd.read_csv("../data/raw/boardgames_df_raw.csv")


boardgames_df


boardgames_df.info()


boardgames_df = boardgames_df.drop(columns=["release_year", "rank_overall", "owned", "fans", "page_views", "std_deviation",	"comments", "monthly_plays", "previously_owned", "for_trade", "want_trade", "rating_1", "rating_2", "rating_3", "rating_4", "rating_5", "rating_6", "rating_7", "rating_8", "rating_9", "rating_10", "mechanics", "families", "designers", "artists", "publishers", "solo_designers", "developers", "graphic_designers", "sculptors", "editors", "writers", "insert_designers", "rank_strategy", "rank_thematic", "rank_family", "rank_war", "rank_customizable", "rank_abstract", "rank_party", "rank_childrens"])
boardgames_df


boardgames_df.to_csv("../data/clean/boardgames_df_cleaned.csv", index=False)



