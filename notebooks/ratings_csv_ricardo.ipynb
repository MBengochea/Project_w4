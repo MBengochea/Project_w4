{
 "cells": [
  {
   "cell_type": "code",
   "execution_count": null,
   "id": "32697c16-9297-4adf-83ee-41882f6aaf90",
   "metadata": {},
   "outputs": [],
   "source": [
    "import pandas as pd\n",
    "import numpy as np\n",
    "\n",
    "url = \"../data/clean/boardgames_df_cleaned.csv\"\n",
    "\n",
    "games = pd.read_csv(url)"
   ]
  },
  {
   "cell_type": "raw",
   "id": "e6f613c7-cee6-4f7d-9863-782d352cf5c2",
   "metadata": {},
   "source": [
    "games.head()"
   ]
  },
  {
   "cell_type": "code",
   "execution_count": null,
   "id": "310420cd-638e-4451-b1ec-455111af1e28",
   "metadata": {},
   "outputs": [],
   "source": [
    "games_ratings = games[[\"url\",\"description\",\"total_plays\",\"amazon_price\",\"wishlisted\"]]\n",
    "display(games_ratings)"
   ]
  },
  {
   "cell_type": "code",
   "execution_count": null,
   "id": "84e5a606-ed81-419b-b7f6-966ba10f1ff5",
   "metadata": {},
   "outputs": [],
   "source": [
    "games_ratings.to_csv(\"ratings.csv\", index=False, sep=\";\", encoding=\"utf-8\")"
   ]
  },
  {
   "cell_type": "code",
   "execution_count": null,
   "id": "7d0d81ea-7174-4ca0-91f7-eb0e34b424f5",
   "metadata": {},
   "outputs": [],
   "source": []
  }
 ],
 "metadata": {
  "kernelspec": {
   "display_name": "Python 3 (ipykernel)",
   "language": "python",
   "name": "python3"
  },
  "language_info": {
   "codemirror_mode": {
    "name": "ipython",
    "version": 3
   },
   "file_extension": ".py",
   "mimetype": "text/x-python",
   "name": "python",
   "nbconvert_exporter": "python",
   "pygments_lexer": "ipython3",
   "version": "3.13.5"
  }
 },
 "nbformat": 4,
 "nbformat_minor": 5
}
