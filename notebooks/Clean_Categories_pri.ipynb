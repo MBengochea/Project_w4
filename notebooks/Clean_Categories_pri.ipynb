{
 "cells": [
  {
   "cell_type": "code",
   "execution_count": null,
   "id": "1b60d4f7-7361-44e9-8959-190466b0f1b8",
   "metadata": {},
   "outputs": [],
   "source": [
    "import pandas as pd\n",
    "boardgames_df = pd.read_csv(\"../data/raw/boardgames_df_raw.csv\")\n"
   ]
  },
  {
   "cell_type": "code",
   "execution_count": null,
   "id": "4d46e025-5b5e-4ac4-ad21-1a2aee01e2d2",
   "metadata": {},
   "outputs": [],
   "source": [
    "boardgames_df['categories'].value_counts().head(20)"
   ]
  },
  {
   "cell_type": "code",
   "execution_count": null,
   "id": "09e63134-7608-45db-b9de-bdcaba8fc1e7",
   "metadata": {},
   "outputs": [],
   "source": [
    "boardgames_df['categories'] = boardgames_df['categories'].replace({\n",
    "    r'.*Card Game.*': 'Cards',\n",
    "    r'.*puzzle.*': 'Puzzle',\n",
    "    r'.*dice.*': 'Dice',\n",
    "    r'.*engine builder.*': 'Engine Builder',\n",
    "    r'.*cooperaative.*': 'Cooperative',\n",
    "    r'.*war.?game.*': 'War Game',\n",
    "    r'.*bluff.*': 'Bluffing',\n",
    "    r'.*abstract.*': 'Abstract',\n",
    "    r'.*party.*': 'Party',\n",
    "}, regex=True)\n",
    "boardgames_df[\"categories\"].value_counts()"
   ]
  },
  {
   "cell_type": "code",
   "execution_count": null,
   "id": "9598088e-1611-42b6-9979-917f23472508",
   "metadata": {},
   "outputs": [],
   "source": [
    "boardgames_df['categories'].value_counts().head(50)"
   ]
  },
  {
   "cell_type": "code",
   "execution_count": null,
   "id": "3f234cde-6fec-41b1-bec7-b7c4a521d052",
   "metadata": {},
   "outputs": [],
   "source": [
    "boardgames_df['categories'].unique()"
   ]
  },
  {
   "cell_type": "code",
   "execution_count": null,
   "id": "5afc5c5e-137a-4a86-8676-614e4795bdd9",
   "metadata": {},
   "outputs": [],
   "source": [
    "import re\n",
    "\n",
    "def clean_single_category(cat_string):\n",
    "    cats = re.split(r\"\\s*;\\s*\", str(cat_string).strip().lower())\n",
    "\n",
    "    for c in cats:\n",
    "        if re.search(r'card', c):\n",
    "            return \"Card Games\"\n",
    "        elif re.search(r'puzzle', c):\n",
    "            return \"Puzzle Games\"\n",
    "        elif re.search(r'dice', c):\n",
    "            return \"Dice\"\n",
    "        elif re.search(r'engine build', c):\n",
    "            return \"Engine Builder\"\n",
    "        elif re.search(r'city build', c):\n",
    "            return \"City Builder\"   \n",
    "        elif re.search(r'cooperati?ve', c):   # handles \"cooperative\" + typo \"cooperaative\"\n",
    "            return \"Cooperative\"\n",
    "        elif re.search(r'war.?game', c):      # catches \"wargame\" and \"war game\"\n",
    "            return \"War Game\"\n",
    "        elif re.search(r'bluff', c):          # catches \"bluff\", \"bluffing\"\n",
    "            return \"Bluffing\"\n",
    "        elif re.search(r'abstract', c):\n",
    "            return \"Abstract\"\n",
    "        elif re.search(r'party.?', c):\n",
    "            return \"Party\"\n",
    "        elif re.search(r'fantasy.?', c):\n",
    "            return \"Fantasy\"\n",
    "        elif re.search(r'science.?', c):\n",
    "            return \"Science\"\n",
    "        elif re.search(r'industry.?', c):\n",
    "            return \"Industry\"\n",
    "        elif re.search(r'adventure.?', c):\n",
    "            return \"Adventure\"\n",
    "        elif re.search(r'environment.?', c):\n",
    "            return \"Environmental\"\n",
    "        elif re.search(r'mystery.?', c):\n",
    "            return \"Mystery\"\n",
    "        elif re.search(r'strategy.?', c):\n",
    "            return \"Strategy\"\n",
    "    return \"Other\"   # fallback if no match\n",
    "\n",
    "\n",
    "# Apply\n",
    "boardgames_df[\"categories\"] = boardgames_df[\"categories\"].apply(clean_single_category)\n",
    "\n",
    "# Check\n",
    "print(boardgames_df[\"categories\"].value_counts())"
   ]
  },
  {
   "cell_type": "code",
   "execution_count": null,
   "id": "52e8058d-05f9-4477-bcea-40514b00f498",
   "metadata": {},
   "outputs": [],
   "source": [
    "categories_df = boardgames_df[[\"categories\"]]\n",
    "\n",
    "# Save to new CSV\n",
    "categories_df.to_csv(\"categories.csv\", index=False)\n",
    "\n",
    "categories_df"
   ]
  },
  {
   "cell_type": "code",
   "execution_count": null,
   "id": "2a71e8c7-94c9-472e-beb5-7532d56a4ecf",
   "metadata": {},
   "outputs": [],
   "source": []
  }
 ],
 "metadata": {
  "kernelspec": {
   "display_name": "Python 3 (ipykernel)",
   "language": "python",
   "name": "python3"
  },
  "language_info": {
   "codemirror_mode": {
    "name": "ipython",
    "version": 3
   },
   "file_extension": ".py",
   "mimetype": "text/x-python",
   "name": "python",
   "nbconvert_exporter": "python",
   "pygments_lexer": "ipython3",
   "version": "3.13.5"
  }
 },
 "nbformat": 4,
 "nbformat_minor": 5
}
