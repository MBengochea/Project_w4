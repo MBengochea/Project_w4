{
 "cells": [
  {
   "cell_type": "code",
   "execution_count": null,
   "id": "226ab63a-eb59-48c3-89d8-3a9bdb8285fc",
   "metadata": {},
   "outputs": [],
   "source": [
    "import pandas as pd\n",
    "import numpy as np\n",
    "\n",
    "url = \"../data/clean/boardgames_df_cleaned.csv\"\n",
    "\n",
    "boardgames = pd.read_csv(url)\n",
    "boardgames.head()"
   ]
  },
  {
   "cell_type": "code",
   "execution_count": null,
   "id": "f00b2d10-4dc5-4110-aa40-7254e2513618",
   "metadata": {},
   "outputs": [],
   "source": [
    "#Top 10 most played overall\n",
    "\n",
    "top10_overall = boardgames[[\"boardgame\", \"total_plays\"]].nlargest(10, \"total_plays\") #is reset_index needed? .reset_index(drop=True)\n",
    "display(top10_overall)"
   ]
  },
  {
   "cell_type": "code",
   "execution_count": null,
   "id": "36221e57-929b-4586-bc2d-63da94f4bd19",
   "metadata": {},
   "outputs": [],
   "source": [
    "#Top 10 ranked games\n",
    "\n",
    "top10_ranking = boardgames[[\"boardgame\", \"avg_rating\"]].nlargest(10, \"avg_rating\") #is reset_index needed? .reset_index(drop=True)\n",
    "display(top10_ranking)"
   ]
  },
  {
   "cell_type": "code",
   "execution_count": null,
   "id": "6ca93cc6-5313-4426-a80c-288c7f42530f",
   "metadata": {},
   "outputs": [],
   "source": [
    "#Top 10 wishlisted games\n",
    "\n",
    "top10_wishlisted = boardgames[[\"boardgame\", \"wishlisted\"]].nlargest(10, \"wishlisted\") #is reset_index needed? .reset_index(drop=True)\n",
    "display(top10_wishlisted)"
   ]
  },
  {
   "cell_type": "code",
   "execution_count": null,
   "id": "63065ba6-522b-4376-b913-87e99f2b6876",
   "metadata": {},
   "outputs": [],
   "source": []
  }
 ],
 "metadata": {
  "kernelspec": {
   "display_name": "Python [conda env:base] *",
   "language": "python",
   "name": "conda-base-py"
  },
  "language_info": {
   "codemirror_mode": {
    "name": "ipython",
    "version": 3
   },
   "file_extension": ".py",
   "mimetype": "text/x-python",
   "name": "python",
   "nbconvert_exporter": "python",
   "pygments_lexer": "ipython3",
   "version": "3.13.5"
  }
 },
 "nbformat": 4,
 "nbformat_minor": 5
}
