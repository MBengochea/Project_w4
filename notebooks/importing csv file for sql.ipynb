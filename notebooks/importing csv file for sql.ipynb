{
 "cells": [
  {
   "cell_type": "code",
   "execution_count": 1,
   "id": "c263cc9f-559d-406e-80c9-b05734a7efa5",
   "metadata": {},
   "outputs": [
    {
     "data": {
      "text/html": [
       "<div>\n",
       "<style scoped>\n",
       "    .dataframe tbody tr th:only-of-type {\n",
       "        vertical-align: middle;\n",
       "    }\n",
       "\n",
       "    .dataframe tbody tr th {\n",
       "        vertical-align: top;\n",
       "    }\n",
       "\n",
       "    .dataframe thead th {\n",
       "        text-align: right;\n",
       "    }\n",
       "</style>\n",
       "<table border=\"1\" class=\"dataframe\">\n",
       "  <thead>\n",
       "    <tr style=\"text-align: right;\">\n",
       "      <th></th>\n",
       "      <th>minimum_age</th>\n",
       "    </tr>\n",
       "  </thead>\n",
       "  <tbody>\n",
       "    <tr>\n",
       "      <th>0</th>\n",
       "      <td>14</td>\n",
       "    </tr>\n",
       "    <tr>\n",
       "      <th>1</th>\n",
       "      <td>13</td>\n",
       "    </tr>\n",
       "    <tr>\n",
       "      <th>2</th>\n",
       "      <td>14</td>\n",
       "    </tr>\n",
       "    <tr>\n",
       "      <th>3</th>\n",
       "      <td>14</td>\n",
       "    </tr>\n",
       "    <tr>\n",
       "      <th>4</th>\n",
       "      <td>14</td>\n",
       "    </tr>\n",
       "    <tr>\n",
       "      <th>...</th>\n",
       "      <td>...</td>\n",
       "    </tr>\n",
       "    <tr>\n",
       "      <th>1995</th>\n",
       "      <td>10</td>\n",
       "    </tr>\n",
       "    <tr>\n",
       "      <th>1996</th>\n",
       "      <td>14</td>\n",
       "    </tr>\n",
       "    <tr>\n",
       "      <th>1997</th>\n",
       "      <td>8</td>\n",
       "    </tr>\n",
       "    <tr>\n",
       "      <th>1998</th>\n",
       "      <td>12</td>\n",
       "    </tr>\n",
       "    <tr>\n",
       "      <th>1999</th>\n",
       "      <td>12</td>\n",
       "    </tr>\n",
       "  </tbody>\n",
       "</table>\n",
       "<p>2000 rows × 1 columns</p>\n",
       "</div>"
      ],
      "text/plain": [
       "      minimum_age\n",
       "0              14\n",
       "1              13\n",
       "2              14\n",
       "3              14\n",
       "4              14\n",
       "...           ...\n",
       "1995           10\n",
       "1996           14\n",
       "1997            8\n",
       "1998           12\n",
       "1999           12\n",
       "\n",
       "[2000 rows x 1 columns]"
      ]
     },
     "execution_count": 1,
     "metadata": {},
     "output_type": "execute_result"
    }
   ],
   "source": [
    "import pandas as pd\n",
    "boardgames_df = pd.read_csv(\"../data/raw/boardgames_df_raw.csv\")\n",
    "\n",
    "\n",
    "\n",
    "boardgames_df[\"minimum_age\"] = boardgames_df[\"minimum_age\"].replace(0, 4)\n",
    "age_df = boardgames_df[[\"minimum_age\"]]\n",
    "\n",
    "# Save to new CSV\n",
    "age_df.to_csv(\"age.csv\", index=False)\n",
    "\n",
    "age_df"
   ]
  },
  {
   "cell_type": "code",
   "execution_count": null,
   "id": "d9eb5014-475e-4bdb-8a09-357dd4a67b7d",
   "metadata": {},
   "outputs": [],
   "source": [
    "import pandas as pd\n",
    "boardgames_df = pd.read_csv(\"../data/raw/boardgames_df_raw.csv\")\n",
    "boardgames_df\n",
    "player_df = boardgames_df[[\"min_players\", \"max_players\"]]\n",
    "\n",
    "# Save to new CSV\n",
    "player_df.to_csv(\"player.csv\", index=False)\n",
    "\n",
    "player_df"
   ]
  },
  {
   "cell_type": "code",
   "execution_count": null,
   "id": "45390c6e-fab9-4558-babb-0ed5ff734a8b",
   "metadata": {},
   "outputs": [],
   "source": [
    "complexity_df = boardgames_df[[\"complexity\"]]\n",
    "\n",
    "# Save to new CSV\n",
    "complexity_df.to_csv(\"complexity.csv\", index=False)\n",
    "\n",
    "complexity_df"
   ]
  },
  {
   "cell_type": "code",
   "execution_count": null,
   "id": "1e64688f-3f7b-4f53-85c3-9a7bdca7c9b1",
   "metadata": {},
   "outputs": [],
   "source": [
    "playtime_df = boardgames_df[[\"min_playtime\", \"max_playtime\"]]\n",
    "\n",
    "# Save to new CSV\n",
    "playtime_df.to_csv(\"playtime.csv\", index=False)\n",
    "\n",
    "playtime_df"
   ]
  },
  {
   "cell_type": "code",
   "execution_count": null,
   "id": "6d94440d-2234-4e28-8211-62a9f89eee62",
   "metadata": {},
   "outputs": [],
   "source": []
  }
 ],
 "metadata": {
  "kernelspec": {
   "display_name": "Python 3 (ipykernel)",
   "language": "python",
   "name": "python3"
  },
  "language_info": {
   "codemirror_mode": {
    "name": "ipython",
    "version": 3
   },
   "file_extension": ".py",
   "mimetype": "text/x-python",
   "name": "python",
   "nbconvert_exporter": "python",
   "pygments_lexer": "ipython3",
   "version": "3.13.5"
  }
 },
 "nbformat": 4,
 "nbformat_minor": 5
}
