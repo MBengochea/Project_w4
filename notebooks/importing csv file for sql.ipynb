{
 "cells": [
  {
   "cell_type": "code",
   "execution_count": null,
   "id": "c263cc9f-559d-406e-80c9-b05734a7efa5",
   "metadata": {},
   "outputs": [],
   "source": [
    "import pandas as pd\n",
    "boardgames_df = pd.read_csv(\"../data/raw/boardgames_df_raw.csv\")\n",
    "\n",
    "\n",
    "\n",
    "# Example: select rows where column 'Age' > 30\n",
    "age_df = boardgames_df[[\"minimum_age\"]]\n",
    "\n",
    "# Save to new CSV\n",
    "age_df.to_csv(\"age.csv\", index=False)\n",
    "\n",
    "age_df"
   ]
  },
  {
   "cell_type": "code",
   "execution_count": null,
   "id": "d9eb5014-475e-4bdb-8a09-357dd4a67b7d",
   "metadata": {},
   "outputs": [],
   "source": [
    "import pandas as pd\n",
    "boardgames_df = pd.read_csv(\"../data/raw/boardgames_df_raw.csv\")\n",
    "boardgames_df\n",
    "player_df = boardgames_df[[\"min_players\", \"max_players\"]]\n",
    "\n",
    "# Save to new CSV\n",
    "player_df.to_csv(\"player.csv\", index=False)\n",
    "\n",
    "player_df"
   ]
  },
  {
   "cell_type": "code",
   "execution_count": null,
   "id": "45390c6e-fab9-4558-babb-0ed5ff734a8b",
   "metadata": {},
   "outputs": [],
   "source": [
    "complexity_df = boardgames_df[[\"complexity\"]]\n",
    "\n",
    "# Save to new CSV\n",
    "complexity_df.to_csv(\"complexity.csv\", index=False)\n",
    "\n",
    "complexity_df"
   ]
  },
  {
   "cell_type": "code",
   "execution_count": null,
   "id": "1e64688f-3f7b-4f53-85c3-9a7bdca7c9b1",
   "metadata": {},
   "outputs": [],
   "source": [
    "playtime_df = boardgames_df[[\"min_playtime\", \"max_playtime\"]]\n",
    "\n",
    "# Save to new CSV\n",
    "playtime_df.to_csv(\"playtime.csv\", index=False)\n",
    "\n",
    "playtime_df"
   ]
  },
  {
   "cell_type": "code",
   "execution_count": null,
   "id": "6d94440d-2234-4e28-8211-62a9f89eee62",
   "metadata": {},
   "outputs": [],
   "source": []
  }
 ],
 "metadata": {
  "kernelspec": {
   "display_name": "Python 3 (ipykernel)",
   "language": "python",
   "name": "python3"
  },
  "language_info": {
   "codemirror_mode": {
    "name": "ipython",
    "version": 3
   },
   "file_extension": ".py",
   "mimetype": "text/x-python",
   "name": "python",
   "nbconvert_exporter": "python",
   "pygments_lexer": "ipython3",
   "version": "3.13.5"
  }
 },
 "nbformat": 4,
 "nbformat_minor": 5
}
