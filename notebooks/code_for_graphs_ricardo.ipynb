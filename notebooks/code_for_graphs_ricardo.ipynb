{
 "cells": [
  {
   "cell_type": "code",
   "execution_count": null,
   "id": "83e4dc2e-d5bf-4a1c-94d2-0500b6abc8a5",
   "metadata": {},
   "outputs": [],
   "source": [
    "import pandas as pd\n",
    "import numpy as np\n",
    "import matplotlib.pyplot as plt\n",
    "import seaborn as sns\n",
    "import yaml\n",
    " \n",
    "try:\n",
    "    with open(\"../config.yaml\", \"r\") as file:\n",
    "        config = yaml.safe_load(file)\n",
    "except:\n",
    "    print(\"Yaml configuration file not found!\")\n",
    "\n",
    "url = \"../data/clean/boardgames_df_cleaned.csv\"\n",
    "\n",
    "boardgames = pd.read_csv(config['input_data']['file'])"
   ]
  },
  {
   "cell_type": "code",
   "execution_count": null,
   "id": "6b75d6d4-abb0-41b4-8d7b-043a878c9486",
   "metadata": {},
   "outputs": [],
   "source": [
    "#Top 10 games by ranking\n",
    "\n",
    "top10_ranking = boardgames[[\"boardgame\", \"avg_rating\"]].nlargest(10, \"avg_rating\")\n",
    "\n",
    "plt.figure(figsize=(8,6))\n",
    "ax = sns.barplot(x=\"avg_rating\", y=\"boardgame\", data=top10_ranking)\n",
    "\n",
    "ax = sns.barplot(\n",
    "    x=\"avg_rating\",\n",
    "    y=\"boardgame\",\n",
    "    data=top10_ranking,\n",
    ")\n",
    "\n",
    "\n",
    "#text labels\n",
    "for i, v in enumerate(top10_ranking[\"avg_rating\"]):\n",
    "    ax.text(v + 0.1, i, str(v), color=\"black\", va=\"center\")\n",
    "    \n",
    "plt.xlim(0, 10)\n",
    "plt.xlabel(\"Rating 1 - 10\")\n",
    "plt.ylabel(\"\")\n",
    "plt.title(\"Top 10 Rated Games\")\n",
    "plt.show()"
   ]
  },
  {
   "cell_type": "code",
   "execution_count": null,
   "id": "bf687d01-46e8-4cb1-88ea-9458839c0ca8",
   "metadata": {},
   "outputs": [],
   "source": [
    "#top 10 overall most played\n",
    "\n",
    "top10_overall = boardgames[[\"boardgame\", \"total_plays\"]].nlargest(10, \"total_plays\")\n",
    "\n",
    "plt.figure(figsize=(8,6))\n",
    "ax = sns.barplot(x=\"total_plays\", y=\"boardgame\", data=top10_overall)\n",
    "\n",
    "ax = sns.barplot(\n",
    "    x=\"total_plays\",\n",
    "    y=\"boardgame\",\n",
    "    data=top10_overall,\n",
    "    )\n",
    "\n",
    "\n",
    "#text labels\n",
    "for i, v in enumerate(top10_overall[\"total_plays\"]):\n",
    "    ax.text(v + 0.1, i, str(v), color='black', va='center')\n",
    "\n",
    "plt.xlim(0, 900000)\n",
    "plt.xlabel(\"Num. of games played\")\n",
    "plt.ylabel(\"\")\n",
    "plt.title(\"Top 10 Most Played\")\n",
    "plt.show()"
   ]
  },
  {
   "cell_type": "code",
   "execution_count": null,
   "id": "6168533a-555c-4b0c-b2a8-f1fbec8ce89e",
   "metadata": {},
   "outputs": [],
   "source": [
    "#top 10 wishlisted #\n",
    "\n",
    "top10_wishlisted = boardgames[[\"boardgame\", \"wishlisted\"]].nlargest(10, \"wishlisted\")\n",
    "\n",
    "plt.figure(figsize=(8,6))\n",
    "ax = sns.barplot(x=\"wishlisted\", y=\"boardgame\", data=top10_wishlisted)\n",
    "\n",
    "ax = sns.barplot(\n",
    "    x=\"wishlisted\",\n",
    "    y=\"boardgame\",\n",
    "    data=top10_wishlisted,\n",
    "    )\n",
    "\n",
    "\n",
    "#text labels\n",
    "for i, v in enumerate(top10_wishlisted[\"wishlisted\"]):\n",
    "    ax.text(v + 0.5, i, str(v), color=\"black\", va=\"center\")\n",
    "    \n",
    "plt.xlim(0, 30000)\n",
    "plt.xlabel(\"Num. of wishlisted games\")\n",
    "plt.ylabel(\"\")\n",
    "plt.title(\"Top 10 Wishlisted Games\")\n",
    "plt.show()"
   ]
  },
  {
   "cell_type": "code",
   "execution_count": null,
   "id": "b1b8c11f-82f3-449f-9e84-aaceef82ec93",
   "metadata": {},
   "outputs": [],
   "source": []
  }
 ],
 "metadata": {
  "kernelspec": {
   "display_name": "Python [conda env:base] *",
   "language": "python",
   "name": "conda-base-py"
  },
  "language_info": {
   "codemirror_mode": {
    "name": "ipython",
    "version": 3
   },
   "file_extension": ".py",
   "mimetype": "text/x-python",
   "name": "python",
   "nbconvert_exporter": "python",
   "pygments_lexer": "ipython3",
   "version": "3.13.5"
  }
 },
 "nbformat": 4,
 "nbformat_minor": 5
}
