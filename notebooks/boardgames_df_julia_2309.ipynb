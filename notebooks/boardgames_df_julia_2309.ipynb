{
 "cells": [
  {
   "cell_type": "code",
   "execution_count": null,
   "id": "15ae7ee9-83d2-4d56-9c6c-859de042d34e",
   "metadata": {},
   "outputs": [],
   "source": [
    "import pandas as pd\n",
    "boardgames_df = pd.read_csv(\"Modules/Week4/Project1/Project_w4/data/raw/boardgames_df_raw.csv\")"
   ]
  },
  {
   "cell_type": "code",
   "execution_count": null,
   "id": "49cf4430-799b-46dd-9bba-4fe57c77ae79",
   "metadata": {},
   "outputs": [],
   "source": [
    "boardgames_df"
   ]
  },
  {
   "cell_type": "code",
   "execution_count": null,
   "id": "39ec60c7-2759-4078-a428-0e85bd12ddda",
   "metadata": {},
   "outputs": [],
   "source": [
    "boardgames_df.info()"
   ]
  },
  {
   "cell_type": "code",
   "execution_count": null,
   "id": "6b57e347-7724-40e8-b740-58a1b2afc812",
   "metadata": {},
   "outputs": [],
   "source": [
    "boardgames_df = boardgames_df.drop(columns=[\"release_year\", \"rank_overall\", \"owned\", \"fans\", \"page_views\", \"std_deviation\",\t\"comments\", \"monthly_plays\", \"previously_owned\", \"for_trade\", \"want_trade\", \"rating_1\", \"rating_2\", \"rating_3\", \"rating_4\", \"rating_5\", \"rating_6\", \"rating_7\", \"rating_8\", \"rating_9\", \"rating_10\", \"mechanics\", \"families\", \"designers\", \"artists\", \"publishers\", \"solo_designers\", \"developers\", \"graphic_designers\", \"sculptors\", \"editors\", \"writers\", \"insert_designers\", \"rank_strategy\", \"rank_thematic\", \"rank_family\", \"rank_war\", \"rank_customizable\", \"rank_abstract\", \"rank_party\", \"rank_childrens\"])\n",
    "boardgames_df"
   ]
  },
  {
   "cell_type": "code",
   "execution_count": null,
   "id": "1f01a1aa-8f15-4d39-9307-7fe2e4dc4ff7",
   "metadata": {},
   "outputs": [],
   "source": [
    "boardgames_df.to_csv(\"Modules/Week4/Project1/Project_w4/data/clean/boardgames_df_cleaned.csv\", index=False)"
   ]
  },
  {
   "cell_type": "code",
   "execution_count": null,
   "id": "a3f3f51f-c4cf-4944-aeee-cce56482f11c",
   "metadata": {},
   "outputs": [],
   "source": [
    "def recommendation_boardgames(boardgames_df):\n",
    "    # Get user preferences and convert to integers\n",
    "    playtime = int(input('Please enter the number of minutes you wish to play: '))\n",
    "    number_players = int(input('Please enter the number of players: '))\n",
    "    min_age = int(input('Please enter the age of the youngest player: '))\n",
    "    complexity = float(int(input('Please enter the difficulty level you wish for the game from 1 to 4 (1 - Easy; 2 - Medium; 3 - Hard; 4 - Very Hard): ')))\n",
    "\n",
    "    # Filter the dataframe using conditions\n",
    "    filtered_df = boardgames_df[\n",
    "        (boardgames_df['min_playtime'] <= playtime) &\n",
    "        (boardgames_df['max_playtime'] <= playtime) &\n",
    "        (boardgames_df['min_players'] <= number_players) &\n",
    "        (boardgames_df['max_players'] >= number_players) &\n",
    "        (boardgames_df['minimum_age'] <= min_age) &\n",
    "        (boardgames_df['complexity'] <= complexity+1) &\n",
    "        (boardgames_df['complexity'] >= complexity)\n",
    "    ]\n",
    "\n",
    "    filtered_df_ranked = filtered_df.sort_values(by=\"avg_rating\", ascending=False, inplace=False)\n",
    "\n",
    "    result = filtered_df_ranked.head(5)\n",
    "    \n",
    "    return result"
   ]
  },
  {
   "cell_type": "code",
   "execution_count": null,
   "id": "b74c4184-a8e9-4018-80c5-593cfce4521a",
   "metadata": {},
   "outputs": [],
   "source": [
    "recommendation_boardgames(boardgames_df)"
   ]
  },
  {
   "cell_type": "code",
   "execution_count": null,
   "id": "c2106f2e-ce5d-4b45-bd66-eb23ed9d220a",
   "metadata": {},
   "outputs": [],
   "source": []
  }
 ],
 "metadata": {
  "kernelspec": {
   "display_name": "Python 3 (ipykernel)",
   "language": "python",
   "name": "python3"
  },
  "language_info": {
   "codemirror_mode": {
    "name": "ipython",
    "version": 3
   },
   "file_extension": ".py",
   "mimetype": "text/x-python",
   "name": "python",
   "nbconvert_exporter": "python",
   "pygments_lexer": "ipython3",
   "version": "3.13.5"
  }
 },
 "nbformat": 4,
 "nbformat_minor": 5
}
