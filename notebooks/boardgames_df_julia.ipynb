{
 "cells": [
  {
   "cell_type": "code",
   "execution_count": null,
   "id": "15ae7ee9-83d2-4d56-9c6c-859de042d34e",
   "metadata": {},
   "outputs": [],
   "source": [
    "import pandas as pd\n",
    "boardgames_df = pd.read_csv(\"../data/raw/boardgames_df_raw.csv\")"
   ]
  },
  {
   "cell_type": "code",
   "execution_count": null,
   "id": "49cf4430-799b-46dd-9bba-4fe57c77ae79",
   "metadata": {},
   "outputs": [],
   "source": [
    "boardgames_df"
   ]
  },
  {
   "cell_type": "code",
   "execution_count": null,
   "id": "39ec60c7-2759-4078-a428-0e85bd12ddda",
   "metadata": {},
   "outputs": [],
   "source": [
    "boardgames_df.info()"
   ]
  },
  {
   "cell_type": "code",
   "execution_count": null,
   "id": "6b57e347-7724-40e8-b740-58a1b2afc812",
   "metadata": {},
   "outputs": [],
   "source": [
    "boardgames_df = boardgames_df.drop(columns=[\"release_year\", \"rank_overall\", \"owned\", \"fans\", \"page_views\", \"std_deviation\",\t\"comments\", \"monthly_plays\", \"previously_owned\", \"for_trade\", \"want_trade\", \"rating_1\", \"rating_2\", \"rating_3\", \"rating_4\", \"rating_5\", \"rating_6\", \"rating_7\", \"rating_8\", \"rating_9\", \"rating_10\", \"mechanics\", \"families\", \"designers\", \"artists\", \"publishers\", \"solo_designers\", \"developers\", \"graphic_designers\", \"sculptors\", \"editors\", \"writers\", \"insert_designers\", \"rank_strategy\", \"rank_thematic\", \"rank_family\", \"rank_war\", \"rank_customizable\", \"rank_abstract\", \"rank_party\", \"rank_childrens\"])\n",
    "boardgames_df"
   ]
  },
  {
   "cell_type": "code",
   "execution_count": null,
   "id": "1f01a1aa-8f15-4d39-9307-7fe2e4dc4ff7",
   "metadata": {},
   "outputs": [],
   "source": [
    "boardgames_df.to_csv(\"../data/clean/boardgames_df_cleaned.csv\", index=False)"
   ]
  },
  {
   "cell_type": "code",
   "execution_count": null,
   "id": "f692e5c6-0a29-43e5-9ac3-1735caab93b3",
   "metadata": {},
   "outputs": [],
   "source": []
  }
 ],
 "metadata": {
  "kernelspec": {
   "display_name": "Python 3 (ipykernel)",
   "language": "python",
   "name": "python3"
  },
  "language_info": {
   "codemirror_mode": {
    "name": "ipython",
    "version": 3
   },
   "file_extension": ".py",
   "mimetype": "text/x-python",
   "name": "python",
   "nbconvert_exporter": "python",
   "pygments_lexer": "ipython3",
   "version": "3.13.5"
  }
 },
 "nbformat": 4,
 "nbformat_minor": 5
}
