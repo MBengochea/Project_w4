{
 "cells": [
  {
   "cell_type": "code",
   "execution_count": null,
   "id": "83e4dc2e-d5bf-4a1c-94d2-0500b6abc8a5",
   "metadata": {},
   "outputs": [],
   "source": [
    "import pandas as pd\n",
    "import numpy as np\n",
    "import matplotlib.pyplot as plt\n",
    "import seaborn as sns"
   ]
  },
  {
   "cell_type": "code",
   "execution_count": null,
   "id": "9e0e3037-17dd-488d-b8ca-3e22c6ec1974",
   "metadata": {},
   "outputs": [],
   "source": [
    "# Import clean file for analysis"
   ]
  },
  {
   "cell_type": "code",
   "execution_count": null,
   "id": "6b75d6d4-abb0-41b4-8d7b-043a878c9486",
   "metadata": {},
   "outputs": [],
   "source": [
    "# Chart of Top 10 games by ranking\n",
    "\n",
    "# Storing top 10 ranking\n",
    "top10ranking = boardgames_df['rank_overall'].value_counts().nlargest(10).index\n",
    "\n",
    "# Creating the chart\n",
    "sns.countplot(y='rank_overall', data=boardgames_df, order=top10ranking)"
   ]
  },
  {
   "cell_type": "code",
   "execution_count": null,
   "id": "d2b11a79-437e-49d9-9fb0-270b90934081",
   "metadata": {},
   "outputs": [],
   "source": [
    "# Chart of Top 10 most played games\n",
    "\n",
    "# Storing top 10 played\n",
    "top10played = boardgames_df['coluna_do_top10played'].value_counts().nlargest(10).index\n",
    "\n",
    "# Creating the chart\n",
    "sns.countplot(y='coluna_do_top10played', data=boardgames_df, order=top10played)"
   ]
  },
  {
   "cell_type": "code",
   "execution_count": null,
   "id": "6168533a-555c-4b0c-b2a8-f1fbec8ce89e",
   "metadata": {},
   "outputs": [],
   "source": [
    "# Chart of Top 10 wishlisted\n",
    "\n",
    "# Storing top 10 wishlisted\n",
    "top10wishlist = boardgames_df['wishlisted'].value_counts().nlargest(10).index\n",
    "\n",
    "# Creating the chart\n",
    "sns.countplot(y='wishlisted', data=boardgames_df, order=top10wishlist)"
   ]
  }
 ],
 "metadata": {
  "kernelspec": {
   "display_name": "Python [conda env:base] *",
   "language": "python",
   "name": "conda-base-py"
  },
  "language_info": {
   "codemirror_mode": {
    "name": "ipython",
    "version": 3
   },
   "file_extension": ".py",
   "mimetype": "text/x-python",
   "name": "python",
   "nbconvert_exporter": "python",
   "pygments_lexer": "ipython3",
   "version": "3.13.5"
  }
 },
 "nbformat": 4,
 "nbformat_minor": 5
}
